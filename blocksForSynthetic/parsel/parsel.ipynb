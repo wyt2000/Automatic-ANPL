{
  "nbformat": 4,
  "nbformat_minor": 0,
  "metadata": {
    "colab": {
      "provenance": [],
      "authorship_tag": "ABX9TyPZho3H70kp8ggLwqpIcCES",
      "include_colab_link": true
    },
    "kernelspec": {
      "name": "python3",
      "display_name": "Python 3"
    },
    "language_info": {
      "name": "python"
    }
  },
  "cells": [
    {
      "cell_type": "markdown",
      "metadata": {
        "id": "view-in-github",
        "colab_type": "text"
      },
      "source": [
        "<a href=\"https://colab.research.google.com/github/ezelikman/parsel/blob/main/parsel.ipynb\" target=\"_parent\"><img src=\"https://colab.research.google.com/assets/colab-badge.svg\" alt=\"Open In Colab\"/></a>"
      ]
    },
    {
      "cell_type": "markdown",
      "source": [
        "# Parsel\n",
        "\n",
        "This notebook is meant to provide a high-level intro to using Parsel. First we're going to clone the Parsel repo and `pip install openai` so we can use Codex."
      ],
      "metadata": {
        "id": "KTUWfYeAcQ31"
      }
    },
    {
      "cell_type": "code",
      "execution_count": null,
      "metadata": {
        "id": "b8KwW8WKsOJ-"
      },
      "outputs": [],
      "source": [
        "%cd /content\n",
        "# Get Parsel\n",
        "!git clone https://github.com/ezelikman/parsel\n",
        "%cd parsel\n",
        "# Get OpenAI API (for Codex/GPT3)\n",
        "!pip install openai -q"
      ]
    },
    {
      "cell_type": "markdown",
      "source": [
        "You need to authenticate to use Codex, so here's a small helper for that"
      ],
      "metadata": {
        "id": "n5yXQt-Aci2i"
      }
    },
    {
      "cell_type": "code",
      "source": [
        "import openai\n",
        "import os\n",
        "from getpass import getpass\n",
        "\n",
        "organization = getpass(\"What is your OpenAI organization? You can find it here: https://beta.openai.com/account/org-settings\")\n",
        "api_key = getpass(\"What is your OpenAI API key? You can create one here: https://beta.openai.com/account/api-keys\")\n",
        "try:\n",
        "    openai.organization = organization\n",
        "    openai.api_key = api_key\n",
        "    openai.Model.list()\n",
        "    print(\"Success! You're logged in\")\n",
        "    os.makedirs('keys', exist_ok=True)\n",
        "    with open('keys/codex_key.txt', 'w') as f:\n",
        "        f.write(f\"{organization}:{api_key}\")\n",
        "except Exception as e:\n",
        "    print(e)\n",
        "    print(\"Something is wrong with the organization or key you entered!\")"
      ],
      "metadata": {
        "colab": {
          "base_uri": "https://localhost:8080/"
        },
        "id": "65kUPqFxuWkx",
        "outputId": "74992b0f-fc55-47d4-bceb-ae7431e49573"
      },
      "execution_count": null,
      "outputs": [
        {
          "output_type": "stream",
          "name": "stdout",
          "text": [
            "What is your OpenAI organization? You can find it here: https://beta.openai.com/account/org-settings··········\n",
            "What is your OpenAI API key? You can create one here: https://beta.openai.com/account/api-keys··········\n",
            "Success! You're logged in\n"
          ]
        }
      ]
    },
    {
      "cell_type": "markdown",
      "source": [
        "Let's implement the problem solving example from the paper!"
      ],
      "metadata": {
        "id": "9v5WFGnocvJu"
      }
    },
    {
      "cell_type": "code",
      "source": [
        "!python3 parsel.py programs/problem_solving.ss"
      ],
      "metadata": {
        "colab": {
          "base_uri": "https://localhost:8080/"
        },
        "id": "EtZbs8WJv2EH",
        "outputId": "d4374be8-4443-441a-bdc7-c5053cf7e270"
      },
      "execution_count": null,
      "outputs": [
        {
          "output_type": "stream",
          "name": "stdout",
          "text": [
            "Implementing SCC 0 {'select_airport_cities'}\n",
            "Implementing SCC 1 {'sky_city_cost'}\n",
            "Trying 8 completions\n",
            "Calling Codex!\n",
            "8 completions 500 tokens each\n",
            "Attempting to implement {'sky_city_cost'}\n",
            " 38% 3/8 [00:01<00:01,  2.89it/s]Killing subprocesses\n",
            " 88% 7/8 [00:01<00:00,  5.82it/s]\n",
            "Successfully implemented {'sky_city_cost'}\n",
            "Implementing SCC 2 {'minimum_spanning_tree'}\n",
            "Trying 8 completions\n",
            "Calling Codex!\n",
            "8 completions 500 tokens each\n",
            "Attempting to implement {'minimum_spanning_tree'}\n",
            " 25% 2/8 [00:01<00:03,  1.97it/s]Killing subprocesses\n",
            " 38% 3/8 [00:01<00:01,  2.67it/s]\n",
            "Successfully implemented {'minimum_spanning_tree'}\n",
            "Implementing SCC 3 {'final_node_connectors'}\n",
            "Trying 8 completions\n",
            "Calling Codex!\n",
            "8 completions 500 tokens each\n",
            "Attempting to implement {'final_node_connectors'}\n",
            " 25% 2/8 [00:01<00:03,  1.97it/s]Killing subprocesses\n",
            " 25% 2/8 [00:01<00:03,  1.75it/s]\n",
            "Successfully implemented {'final_node_connectors'}\n",
            "Trying 8 completions\n",
            "Calling Codex!\n",
            "8 completions 500 tokens each\n",
            "Attempting to implement {'select_airport_cities'}\n",
            " 25% 2/8 [00:01<00:03,  1.96it/s]Killing subprocesses\n",
            " 25% 2/8 [00:01<00:03,  1.73it/s]\n",
            "Successfully implemented {'select_airport_cities'}\n",
            "Implementing SCC 1 {'sky_city_cost'}\n",
            "Implementing SCC 2 {'minimum_spanning_tree'}\n",
            "Implementing SCC 3 {'final_node_connectors'}\n",
            "Writing to programs/problem_solving.py\n",
            "Done writing to programs/problem_solving.py\n"
          ]
        }
      ]
    },
    {
      "cell_type": "markdown",
      "source": [
        "And here's the lisp interpreter written in Parsel, with the asserts and testing-specific functions removed to be concise - you can see the full code in `programs/lisp.ss`.\n",
        "\n",
        "\n",
        "\n",
        "```\n",
        "An env is a dictionary of {'var':val} pairs, with a link to its outer environment in env['_outer'].\n",
        "A procedure is a lambda expression, with parms, body, and env which calls eval_exp on the body.\n",
        " #*#*#\n",
        "evaluate_program(program): Initialize a standard environment. Parse and evaluate a list of expressions, returning the final result.\n",
        "  get_env(parms, args, env=None): Return a new env inside env with parms mapped to their corresponding args, and env as the new env's outer env.\n",
        "  standard_env(includes=['math','ops','simple_math']): An environment with some Scheme standard procedures. Start with an environment and update it with standard functions.\n",
        "    get_math(): Get a dictionary mapping math library function names to their functions.\n",
        "    get_ops(): Get a dictionary mapping operator symbols to their functions: +, -, *, /, >, <, >=, <=, =.\n",
        "    get_simple_math(): Get a dictionary mapping 'abs', 'min', 'max', 'not', 'round' to their functions.\n",
        "  parse_and_update(expression, env): Parse an expression, return the result.\n",
        "    eval_exp(x, env): Evaluate an expression in an environment and return the result. Check if x is a list, a string, or neither, and call the corresponding function.\n",
        "      find(env, var): Find the value of var in the innermost env where var appears.\n",
        "      string_case(x, env): Return find(env, x).\n",
        "        find\n",
        "      list_case(x, env): Handle the function specified by the first value of x. Handle the first value of x being quote, if, define, set!, lambda, or otherwise. Return the result.\n",
        "        get_procedure(parms, body, env): Return a procedure which evaluates body in a new environment with parms bound to the args passed to the procedure (in the same order as parms).\n",
        "          eval_procedure(parms, body, env, args): Gets a procedure and returns the result of evaluating proc(*args) in env. Should not be called directly.\n",
        "            get_procedure\n",
        "            get_env\n",
        "            eval_exp\n",
        "        otherwise_case(x, env): Get the procedure by evaluating the first value of x. Then, evaluate the arguments and apply the procedure to them. Return the result.\n",
        "          eval_exp\n",
        "        eval_exp\n",
        "      not_list_case(x, env): Return x\n",
        "    parse(program): Read a Scheme expression from a string.\n",
        "      tokenize(s): Convert a string into a list of tokens, including parens.\n",
        "      read_from_tokens(tokens): Translate tokens to their corresponding atoms, using parentheses for nesting lists.\n",
        "        atom(token): Numbers become numbers; every other token is a string.\n",
        "    nested_list_to_str(exp): Convert a nested list into a string with nesting represented by parentheses.\n",
        "```\n",
        "\n",
        "Let's compile it!"
      ],
      "metadata": {
        "id": "U9QXfBXXcyUo"
      }
    },
    {
      "cell_type": "code",
      "source": [
        "!python3 parsel.py programs/lisp.ss"
      ],
      "metadata": {
        "colab": {
          "base_uri": "https://localhost:8080/"
        },
        "id": "gKMtXngT5bk7",
        "outputId": "8285c2f4-14d6-4ff7-ce87-eeaa82faabea"
      },
      "execution_count": null,
      "outputs": [
        {
          "output_type": "stream",
          "name": "stdout",
          "text": [
            "Implementing SCC 0 {'evaluate_program'}\n",
            "Implementing SCC 1 {'get_env'}\n",
            "Trying 8 completions\n",
            "Calling Codex!\n",
            "8 completions 500 tokens each\n",
            "Attempting to implement {'get_env'}\n",
            " 25% 2/8 [00:01<00:03,  1.94it/s]Killing subprocesses\n",
            " 25% 2/8 [00:01<00:03,  1.62it/s]\n",
            "Successfully implemented {'get_env'}\n",
            "Implementing SCC 2 {'get_math', 'apply_fn_dict_key', 'get_simple_math', 'get_ops', 'standard_env'}\n",
            "Trying 8 completions\n",
            "Calling Codex!\n",
            "8 completions 500 tokens each\n",
            "Calling Codex!\n",
            "8 completions 500 tokens each\n",
            "Calling Codex!\n",
            "8 completions 500 tokens each\n",
            "Calling Codex!\n",
            "8 completions 500 tokens each\n",
            "Calling Codex!\n",
            "8 completions 500 tokens each\n",
            "Rate limit reached. Waiting before retrying...\n",
            "Attempting to implement {'get_math', 'apply_fn_dict_key', 'get_simple_math', 'get_ops', 'standard_env'}\n",
            "  3% 485/14336 [00:02<00:38, 355.89it/s]Killing subprocesses\n",
            "  4% 510/14336 [00:02<01:09, 198.09it/s]\n",
            "Successfully implemented {'get_math', 'apply_fn_dict_key', 'get_simple_math', 'get_ops', 'standard_env'}\n",
            "Implementing SCC 3 {'parse_and_update'}\n",
            "Implementing SCC 1 {'get_env'}\n",
            "Implementing SCC 4 {'list_case', 'otherwise_case', 'eval_procedure', 'eval_exp', 'get_procedure'}\n",
            "Implementing SCC 1 {'get_env'}\n",
            "Implementing SCC 7 {'find'}\n",
            "Trying 8 completions\n",
            "Calling Codex!\n",
            "8 completions 500 tokens each\n",
            "Attempting to implement {'find'}\n",
            " 25% 2/8 [00:01<00:03,  1.97it/s]Killing subprocesses\n",
            " 25% 2/8 [00:01<00:03,  1.75it/s]\n",
            "Successfully implemented {'find'}\n",
            "Implementing SCC 8 {'string_case'}\n",
            "Implementing SCC 7 {'find'}\n",
            "Trying 8 completions\n",
            "Calling Codex!\n",
            "8 completions 500 tokens each\n",
            "Attempting to implement {'string_case'}\n",
            "100% 2/2 [00:01<00:00,  1.97it/s]Reattempting {'string_case'}\n",
            "Reattempt error: 'NoneType' object is not iterable\n",
            "Killing subprocesses\n",
            "100% 2/2 [00:01<00:00,  1.77it/s]\n",
            "Failed implementing {'string_case'}, best attempt: 0 / 1\n",
            "Error No implementation found for {'string_case'}\n",
            "Trying 16 completions\n",
            "Calling Codex!\n",
            "8 completions 500 tokens each\n",
            "Attempting to implement {'string_case'}\n",
            "100% 2/2 [00:01<00:00,  1.97it/s]Reattempting {'string_case'}\n",
            "Reattempt error: 'NoneType' object is not iterable\n",
            "Killing subprocesses\n",
            "100% 2/2 [00:01<00:00,  1.86it/s]\n",
            "Failed implementing {'string_case'}, best attempt: 0 / 1\n",
            "Error No implementation found for {'string_case'}\n",
            "Trying 32 completions\n",
            "Calling Codex!\n",
            "8 completions 500 tokens each\n",
            "8 completions 500 tokens each\n",
            "Attempting to implement {'string_case'}\n",
            " 38% 3/8 [00:01<00:01,  2.99it/s]Killing subprocesses\n",
            " 38% 3/8 [00:01<00:01,  2.57it/s]\n",
            "Successfully implemented {'string_case'}\n",
            "Implementing SCC 9 {'not_list_case'}\n",
            "Trying 8 completions\n",
            "Calling Codex!\n",
            "8 completions 500 tokens each\n",
            "Attempting to implement {'not_list_case'}\n",
            " 33% 2/6 [00:01<00:02,  1.97it/s]Killing subprocesses\n",
            " 50% 3/6 [00:01<00:01,  2.68it/s]\n",
            "Successfully implemented {'not_list_case'}\n",
            "Trying 8 completions\n",
            "Calling Codex!\n",
            "8 completions 500 tokens each\n",
            "Rate limit reached. Waiting before retrying...\n",
            "Calling Codex!\n",
            "8 completions 500 tokens each\n",
            "Calling Codex!\n",
            "8 completions 500 tokens each\n",
            "Calling Codex!\n",
            "8 completions 500 tokens each\n",
            "Calling Codex!\n",
            "8 completions 500 tokens each\n",
            "Rate limit reached. Waiting before retrying...\n",
            "Rate limit reached. Waiting before retrying...\n",
            "Attempting to implement {'list_case', 'otherwise_case', 'eval_procedure', 'eval_exp', 'get_procedure'}\n",
            "  2% 87/4608 [00:01<00:46, 97.59it/s]Killing subprocesses\n",
            "  2% 96/4608 [00:02<01:36, 46.54it/s]\n",
            "Successfully implemented {'list_case', 'otherwise_case', 'eval_procedure', 'eval_exp', 'get_procedure'}\n",
            "Implementing SCC 5 {'parse'}\n",
            "Implementing SCC 10 {'tokenize'}\n",
            "Trying 8 completions\n",
            "Calling Codex!\n",
            "8 completions 500 tokens each\n",
            "Attempting to implement {'tokenize'}\n",
            " 33% 2/6 [00:01<00:02,  1.98it/s]Killing subprocesses\n",
            " 33% 2/6 [00:01<00:02,  1.78it/s]\n",
            "Successfully implemented {'tokenize'}\n",
            "Implementing SCC 11 {'read_from_tokens'}\n",
            "Implementing SCC 12 {'atom'}\n",
            "Trying 8 completions\n",
            "Calling Codex!\n",
            "8 completions 500 tokens each\n",
            "Rate limit reached. Waiting before retrying...\n",
            "Attempting to implement {'atom'}\n",
            " 29% 2/7 [00:01<00:02,  1.98it/s]Killing subprocesses\n",
            " 29% 2/7 [00:01<00:02,  1.77it/s]\n",
            "Successfully implemented {'atom'}\n",
            "Trying 8 completions\n",
            "Calling Codex!\n",
            "8 completions 500 tokens each\n",
            "Rate limit reached. Waiting before retrying...\n",
            "Attempting to implement {'read_from_tokens'}\n",
            "100% 2/2 [00:01<00:00,  1.97it/s]Reattempting {'read_from_tokens'}\n",
            "Reattempt error: 'NoneType' object is not iterable\n",
            "Killing subprocesses\n",
            "100% 2/2 [00:01<00:00,  1.75it/s]\n",
            "Failed implementing {'read_from_tokens'}, best attempt: 0 / 1\n",
            "Error No implementation found for {'read_from_tokens'}\n",
            "Trying 16 completions\n",
            "Calling Codex!\n",
            "8 completions 500 tokens each\n",
            "Rate limit reached. Waiting before retrying...\n",
            "Attempting to implement {'read_from_tokens'}\n",
            " 50% 2/4 [00:01<00:01,  1.97it/s]Killing subprocesses\n",
            " 50% 2/4 [00:01<00:01,  1.76it/s]\n",
            "Successfully implemented {'read_from_tokens'}\n",
            "Implementing SCC 12 {'atom'}\n",
            "Trying 8 completions\n",
            "Calling Codex!\n",
            "8 completions 500 tokens each\n",
            "Attempting to implement {'parse'}\n",
            "100% 2/2 [00:01<00:00,  1.96it/s]Reattempting {'parse'}\n",
            "Reattempt error: 'NoneType' object is not iterable\n",
            "Killing subprocesses\n",
            "100% 2/2 [00:01<00:00,  1.65it/s]\n",
            "Failed implementing {'parse'}, best attempt: 0 / 1\n",
            "Error No implementation found for {'parse'}\n",
            "Trying 16 completions\n",
            "Calling Codex!\n",
            "8 completions 500 tokens each\n",
            "Attempting to implement {'parse'}\n",
            " 50% 2/4 [00:01<00:01,  1.97it/s]Killing subprocesses\n",
            " 50% 2/4 [00:01<00:01,  1.71it/s]\n",
            "Successfully implemented {'parse'}\n",
            "Implementing SCC 6 {'nested_list_to_str'}\n",
            "Trying 8 completions\n",
            "Calling Codex!\n",
            "8 completions 500 tokens each\n",
            "Attempting to implement {'nested_list_to_str'}\n",
            " 25% 2/8 [00:01<00:03,  1.97it/s]Killing subprocesses\n",
            " 25% 2/8 [00:01<00:03,  1.79it/s]\n",
            "Successfully implemented {'nested_list_to_str'}\n",
            "Implementing SCC 7 {'find'}\n",
            "Implementing SCC 8 {'string_case'}\n",
            "Implementing SCC 9 {'not_list_case'}\n",
            "Implementing SCC 10 {'tokenize'}\n",
            "Implementing SCC 11 {'read_from_tokens'}\n",
            "Implementing SCC 12 {'atom'}\n",
            "Trying 8 completions\n",
            "Calling Codex!\n",
            "8 completions 500 tokens each\n",
            "Attempting to implement {'parse_and_update'}\n",
            " 29% 2/7 [00:01<00:02,  1.91it/s]Killing subprocesses\n",
            "7\n",
            " 29% 2/7 [00:01<00:03,  1.64it/s]\n",
            "Successfully implemented {'parse_and_update'}\n",
            "Implementing SCC 4 {'list_case', 'otherwise_case', 'eval_procedure', 'eval_exp', 'get_procedure'}\n",
            "Implementing SCC 5 {'parse'}\n",
            "Implementing SCC 6 {'nested_list_to_str'}\n",
            "Implementing SCC 7 {'find'}\n",
            "Implementing SCC 8 {'string_case'}\n",
            "Implementing SCC 9 {'not_list_case'}\n",
            "Implementing SCC 10 {'tokenize'}\n",
            "Implementing SCC 11 {'read_from_tokens'}\n",
            "Implementing SCC 12 {'atom'}\n",
            "Trying 8 completions\n",
            "Calling Codex!\n",
            "8 completions 500 tokens each\n",
            "Rate limit reached. Waiting before retrying...\n",
            "Rate limit reached. Waiting before retrying...\n",
            "Attempting to implement {'evaluate_program'}\n",
            " 25% 2/8 [00:01<00:03,  1.81it/s]Killing subprocesses\n",
            " 25% 2/8 [00:01<00:03,  1.51it/s]\n",
            "Successfully implemented {'evaluate_program'}\n",
            "Implementing SCC 1 {'get_env'}\n",
            "Implementing SCC 2 {'get_math', 'apply_fn_dict_key', 'get_simple_math', 'get_ops', 'standard_env'}\n",
            "Implementing SCC 3 {'parse_and_update'}\n",
            "Implementing SCC 4 {'list_case', 'otherwise_case', 'eval_procedure', 'eval_exp', 'get_procedure'}\n",
            "Implementing SCC 5 {'parse'}\n",
            "Implementing SCC 6 {'nested_list_to_str'}\n",
            "Implementing SCC 7 {'find'}\n",
            "Implementing SCC 8 {'string_case'}\n",
            "Implementing SCC 9 {'not_list_case'}\n",
            "Implementing SCC 10 {'tokenize'}\n",
            "Implementing SCC 11 {'read_from_tokens'}\n",
            "Implementing SCC 12 {'atom'}\n",
            "Writing to programs/lisp.py\n",
            "Done writing to programs/lisp.py\n"
          ]
        }
      ]
    },
    {
      "cell_type": "markdown",
      "source": [
        "What if we want to apply the generated lisp interpreter using Python? Here's an example - in the above Parsel code, we named our top level lisp interpreter function `evaluate_program`, which takes a list of lisp commands:"
      ],
      "metadata": {
        "id": "DST8UJB1c3SS"
      }
    },
    {
      "cell_type": "code",
      "source": [
        "from programs.lisp import evaluate_program\n",
        "\n",
        "# Print 3^2\n",
        "three_squared = evaluate_program(\n",
        "    [\n",
        "        '(define square (lambda (r) (* r r)))',\n",
        "        '(square 3)'\n",
        "    ]\n",
        ")\n",
        "print(f\"3 ** 2 = {three_squared}\")\n",
        "\n",
        "# Print 10!\n",
        "fact_ten = evaluate_program(\n",
        "    [\n",
        "        '(define fact (lambda (n) (if (<= n 1) 1 (* n (fact (- n 1))))))',\n",
        "        '(fact 10)'\n",
        "    ]\n",
        ")\n",
        "print(f\"10! = {fact_ten}\")"
      ],
      "metadata": {
        "colab": {
          "base_uri": "https://localhost:8080/"
        },
        "id": "tUAv4zrCb4it",
        "outputId": "269f73a3-273d-4f4d-90b8-311193565e29"
      },
      "execution_count": 8,
      "outputs": [
        {
          "output_type": "stream",
          "name": "stdout",
          "text": [
            "3 ** 2 = 9\n",
            "10! = 3628800\n"
          ]
        }
      ]
    },
    {
      "cell_type": "markdown",
      "source": [
        "And that's most of what there is to it! If you want to call the Parsel compiler directly on a string, you can get the graph by using `get_graph` in `parsel.py` and then compiling the graph by applying `parsel_graph`."
      ],
      "metadata": {
        "id": "B0jLur5RgNpV"
      }
    },
    {
      "cell_type": "code",
      "source": [
        "from parsel import get_graph, parsel_graph\n",
        "from codex import CodeGen\n",
        "\n",
        "parsel_code = (\n",
        "\"\"\"\n",
        "collatz_recursion(num, cur_list=list()): Calls base_case if 1, otherwise recursion_rule\n",
        "19 -> [19, 58, 29, 88, 44, 22, 11, 34, 17, 52, 26, 13, 40, 20, 10, 5, 16, 8, 4, 2, 1]\n",
        "    base_case(num, cur_list): Returns the list with the number appended to it\n",
        "    1, [1, 2, 3] -> [1, 2, 3, 1]\n",
        "    recursion_rule(num, cur_list): Add num to list, collatz with 3n + 1 if odd or n / 2 if even\n",
        "    2, [1, 2, 3] -> [1, 2, 3, 2, 1]\n",
        "        collatz_recursion\n",
        "\"\"\"\n",
        ").strip().splitlines()\n",
        "\n",
        "codegen = CodeGen(cache='cache.json', key='keys/codex_key.txt')\n",
        "_, defined_fns = get_graph(parsel_code)\n",
        "compiled_fns = parsel_graph(defined_fns, codegen)"
      ],
      "metadata": {
        "colab": {
          "base_uri": "https://localhost:8080/"
        },
        "id": "gEbFGeV6gwNQ",
        "outputId": "c4a04ad2-f9b2-4e83-8654-922da095afed"
      },
      "execution_count": 14,
      "outputs": [
        {
          "output_type": "stream",
          "name": "stdout",
          "text": [
            "Implementing SCC 0 {'recursion_rule', 'collatz_recursion'}\n",
            "Implementing SCC 1 {'base_case'}\n",
            "Trying 8 completions\n",
            "Attempting to implement {'base_case'}\n"
          ]
        },
        {
          "output_type": "stream",
          "name": "stderr",
          "text": [
            " 29%|██▊       | 2/7 [00:01<00:03,  1.54it/s]\n"
          ]
        },
        {
          "output_type": "stream",
          "name": "stdout",
          "text": [
            "Killing subprocesses\n",
            "Successfully implemented {'base_case'}\n",
            "Trying 8 completions\n",
            "Attempting to implement {'recursion_rule', 'collatz_recursion'}\n"
          ]
        },
        {
          "output_type": "stream",
          "name": "stderr",
          "text": [
            " 10%|▉         | 2/21 [00:01<00:10,  1.81it/s]"
          ]
        },
        {
          "output_type": "stream",
          "name": "stdout",
          "text": [
            "Killing subprocesses\n",
            "Successfully implemented {'recursion_rule', 'collatz_recursion'}\n",
            "Implementing SCC 1 {'base_case'}\n"
          ]
        },
        {
          "output_type": "stream",
          "name": "stderr",
          "text": [
            "\n"
          ]
        }
      ]
    },
    {
      "cell_type": "markdown",
      "source": [
        "And if we want to convert the function list to code, you can use `fns_to_str`"
      ],
      "metadata": {
        "id": "PE3qMHVliw5S"
      }
    },
    {
      "cell_type": "code",
      "source": [
        "from parsel import fns_to_str\n",
        "from graph import get_root\n",
        "\n",
        "# in this case, we know the root is 'collatz_recursion', but more generally:\n",
        "root = get_root(defined_fns)\n",
        "\n",
        "print(\"# CODE:\")\n",
        "print(fns_to_str(defined_fns[root], set()))\n",
        "\n",
        "print(\"# ASSERTS:\")\n",
        "print(\"\\n\".join(fn.get_assert_str() for fn in defined_fns.values()))"
      ],
      "metadata": {
        "colab": {
          "base_uri": "https://localhost:8080/"
        },
        "id": "SaOJm6vhiwbv",
        "outputId": "f12de4e0-a7fc-495f-887d-b99b174e0c38"
      },
      "execution_count": 17,
      "outputs": [
        {
          "output_type": "stream",
          "name": "stdout",
          "text": [
            "# CODE:\n",
            "# Returns the list with the number appended to it\n",
            "def base_case(num, cur_list):\n",
            "\tcur_list.append(num)\n",
            "\treturn cur_list\n",
            "\n",
            "# Calls base_case if 1, otherwise recursion_rule\n",
            "def collatz_recursion(num, cur_list=list()):\n",
            "    \"\"\"\n",
            "    This function recursively calculates the collatz sequence\n",
            "    \"\"\"\n",
            "    # Base case\n",
            "    if (num == 1):\n",
            "        return base_case(num, cur_list)\n",
            "    # Recursive case\n",
            "    else:\n",
            "        return recursion_rule(num, cur_list)\n",
            "\n",
            "# Add num to list, collatz with 3n + 1 if odd or n / 2 if even\n",
            "def recursion_rule(num, cur_list):\n",
            "    cur_list.append(num)\n",
            "    if num % 2 == 0:\n",
            "        return collatz_recursion(int(num / 2), cur_list)\n",
            "    else:\n",
            "        return collatz_recursion(3 * num + 1, cur_list)\n",
            "\n",
            "\n",
            "# ASSERTS:\n",
            "assert repr(str(collatz_recursion(19))) == repr(str([19, 58, 29, 88, 44, 22, 11, 34, 17, 52, 26, 13, 40, 20, 10, 5, 16, 8, 4, 2, 1])) or (collatz_recursion(19) == [19, 58, 29, 88, 44, 22, 11, 34, 17, 52, 26, 13, 40, 20, 10, 5, 16, 8, 4, 2, 1])\n",
            "\n",
            "assert repr(str(base_case(1, [1, 2, 3]))) == repr(str([1, 2, 3, 1])) or (base_case(1, [1, 2, 3]) == [1, 2, 3, 1])\n",
            "\n",
            "assert repr(str(recursion_rule(2, [1, 2, 3]))) == repr(str([1, 2, 3, 2, 1])) or (recursion_rule(2, [1, 2, 3]) == [1, 2, 3, 2, 1])\n",
            "\n"
          ]
        }
      ]
    }
  ]
}